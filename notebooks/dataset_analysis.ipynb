{
 "cells": [
  {
   "cell_type": "code",
   "execution_count": 91,
   "id": "165f6d8c-f0e3-469f-b88a-26155c28808b",
   "metadata": {},
   "outputs": [
    {
     "name": "stdout",
     "output_type": "stream",
     "text": [
      "ptb.char.test.txt   ptb.char.valid.txt  ptb.test.txt   ptb.valid.txt\n",
      "ptb.char.train.txt  \u001b[0m\u001b[01;31mptbdataset.zip\u001b[0m      ptb.train.txt  README\n"
     ]
    }
   ],
   "source": [
    "!ls ../data\n",
    "!mkdir -p ../assets/"
   ]
  },
  {
   "cell_type": "markdown",
   "id": "8d3e441a-d3dd-42b5-9d5c-822df29d6446",
   "metadata": {},
   "source": [
    "## Folders and imports"
   ]
  },
  {
   "cell_type": "code",
   "execution_count": 92,
   "id": "178962db-84e1-43e8-821a-01f2f5e804bc",
   "metadata": {},
   "outputs": [],
   "source": [
    "DATASET_FOLDER = '../data'\n",
    "TRAIN_DATASET = f'{DATASET_FOLDER}/ptb.train.txt'\n",
    "VAL_DATASET = f'{DATASET_FOLDER}/ptb.valid.txt'\n",
    "TEST_DATASET = f'{DATASET_FOLDER}/ptb.test.txt'"
   ]
  },
  {
   "cell_type": "code",
   "execution_count": 93,
   "id": "107b2e14-15bf-47a0-bcd1-a6a2ad753276",
   "metadata": {},
   "outputs": [],
   "source": [
    "import matplotlib.pyplot as plt\n",
    "import pandas as pd\n",
    "import numpy as np\n",
    "from typing import List, Any, Dict\n",
    "from collections import Counter, OrderedDict\n",
    "from IPython.display import display, Markdown, Latex"
   ]
  },
  {
   "cell_type": "markdown",
   "id": "13474286-c19a-433d-9b08-27be316f23c9",
   "metadata": {},
   "source": [
    "## Dataset class"
   ]
  },
  {
   "cell_type": "code",
   "execution_count": 94,
   "id": "440996b6-be74-421f-9253-b540c43b00b3",
   "metadata": {},
   "outputs": [],
   "source": [
    "def flatten(lists: List[List[Any]]) -> List[Any]:\n",
    "    result = []\n",
    "    for sublist in lists:\n",
    "        result.extend(sublist)\n",
    "    return result\n",
    "\n",
    "class Dataset():\n",
    "    def __init__(self, filename: str):\n",
    "        self.filename = filename\n",
    "        self.sentences = self.load_dataset(filename)\n",
    "        self.words = flatten(list(map(lambda sent: sent.split(), self.sentences)))\n",
    "        self.vocabulary = set(self.words)\n",
    "        \n",
    "    def load_dataset(self, filename: str):\n",
    "        return [line for line in open(filename)]\n",
    "    \n",
    "    def vocabulary_density(self, embedding: Dict[int, str]):\n",
    "        count = np.zeros(len(embedding))\n",
    "        for w in self.words:\n",
    "            count[embedding[w]] += 1\n",
    "        return count"
   ]
  },
  {
   "cell_type": "code",
   "execution_count": 95,
   "id": "f997146b-09dc-43af-83c2-7b77a94756c5",
   "metadata": {},
   "outputs": [],
   "source": [
    "train_df = Dataset(TRAIN_DATASET)\n",
    "val_df = Dataset(VAL_DATASET)\n",
    "test_df = Dataset(TEST_DATASET)"
   ]
  },
  {
   "cell_type": "markdown",
   "id": "eea7f1d6-9ee0-4550-9c5f-579e821377b0",
   "metadata": {},
   "source": [
    "## Split ratio"
   ]
  },
  {
   "cell_type": "code",
   "execution_count": 96,
   "id": "39b0912e-e467-471e-a814-7669b62c9697",
   "metadata": {},
   "outputs": [],
   "source": [
    "analysis = []\n",
    "total_sentences = 0\n",
    "total_words = 0\n",
    "for split in [train_df, val_df, test_df]:\n",
    "    analysis.append([len(split.sentences), len(split.words), 0, 0])\n",
    "    total_sentences += len(split.sentences)\n",
    "    total_words += len(split.words)\n",
    "for i in range(len(analysis)):\n",
    "    analysis[i][2] = (analysis[i][0] / total_sentences) * 100\n",
    "    analysis[i][3] = (analysis[i][1] / total_words) * 100\n",
    "analysis = pd.DataFrame(\n",
    "    analysis,\n",
    "    columns=['Sentences', 'Words', 'Sentences split ratio', 'Words split ratio'],\n",
    "    index=['Train', 'Validation', 'Test']\n",
    ")"
   ]
  },
  {
   "cell_type": "code",
   "execution_count": 97,
   "id": "661da343-3eee-49fd-b5b0-6f0654f303da",
   "metadata": {
    "tags": []
   },
   "outputs": [
    {
     "data": {
      "text/html": [
       "<div>\n",
       "<style scoped>\n",
       "    .dataframe tbody tr th:only-of-type {\n",
       "        vertical-align: middle;\n",
       "    }\n",
       "\n",
       "    .dataframe tbody tr th {\n",
       "        vertical-align: top;\n",
       "    }\n",
       "\n",
       "    .dataframe thead th {\n",
       "        text-align: right;\n",
       "    }\n",
       "</style>\n",
       "<table border=\"1\" class=\"dataframe\">\n",
       "  <thead>\n",
       "    <tr style=\"text-align: right;\">\n",
       "      <th></th>\n",
       "      <th>Sentences</th>\n",
       "      <th>Words</th>\n",
       "      <th>Sentences split ratio</th>\n",
       "      <th>Words split ratio</th>\n",
       "    </tr>\n",
       "  </thead>\n",
       "  <tbody>\n",
       "    <tr>\n",
       "      <th>Train</th>\n",
       "      <td>42068</td>\n",
       "      <td>887521</td>\n",
       "      <td>85.505803</td>\n",
       "      <td>85.620116</td>\n",
       "    </tr>\n",
       "    <tr>\n",
       "      <th>Validation</th>\n",
       "      <td>3370</td>\n",
       "      <td>70390</td>\n",
       "      <td>6.849733</td>\n",
       "      <td>6.790600</td>\n",
       "    </tr>\n",
       "    <tr>\n",
       "      <th>Test</th>\n",
       "      <td>3761</td>\n",
       "      <td>78669</td>\n",
       "      <td>7.644464</td>\n",
       "      <td>7.589284</td>\n",
       "    </tr>\n",
       "  </tbody>\n",
       "</table>\n",
       "</div>"
      ],
      "text/plain": [
       "            Sentences   Words  Sentences split ratio  Words split ratio\n",
       "Train           42068  887521              85.505803          85.620116\n",
       "Validation       3370   70390               6.849733           6.790600\n",
       "Test             3761   78669               7.644464           7.589284"
      ]
     },
     "execution_count": 97,
     "metadata": {},
     "output_type": "execute_result"
    }
   ],
   "source": [
    "analysis"
   ]
  },
  {
   "cell_type": "code",
   "execution_count": 98,
   "id": "a13ba95a-54e7-4fbe-ba9f-8db2c8620092",
   "metadata": {},
   "outputs": [
    {
     "data": {
      "text/plain": [
       "(49199, 1036580)"
      ]
     },
     "execution_count": 98,
     "metadata": {},
     "output_type": "execute_result"
    }
   ],
   "source": [
    "analysis.Sentences.sum(), analysis.Words.sum()"
   ]
  },
  {
   "cell_type": "markdown",
   "id": "557080a0-eeef-4079-9616-3ecf885bcf3a",
   "metadata": {},
   "source": [
    "## Vocabularies distribution"
   ]
  },
  {
   "cell_type": "code",
   "execution_count": 51,
   "id": "e03d0fbc-2067-4e12-b857-7720d09758c0",
   "metadata": {},
   "outputs": [],
   "source": [
    "total_vocabulary = (train_df.vocabulary.union(val_df.vocabulary)).union(test_df.vocabulary)\n",
    "int_embedding = {v: i for i, v in enumerate(total_vocabulary)}\n",
    "train_density = train_df.vocabulary_density(int_embedding)\n",
    "val_density = val_df.vocabulary_density(int_embedding)\n",
    "test_density = test_df.vocabulary_density(int_embedding)\n",
    "analysis = []\n",
    "for word, idx in int_embedding.items():\n",
    "    analysis.append([word, int(train_density[idx]), int(val_density[idx]), int(test_density[idx])])\n",
    "    \n",
    "analysis = pd.DataFrame(analysis, columns=[\n",
    "    'Word',\n",
    "    'Train count',\n",
    "    'Validation count',\n",
    "    'Test count'\n",
    "]).set_index('Word')"
   ]
  },
  {
   "cell_type": "code",
   "execution_count": 52,
   "id": "865f3c16-5e89-4395-8533-126bd864ac39",
   "metadata": {},
   "outputs": [
    {
     "data": {
      "text/html": [
       "<div>\n",
       "<style scoped>\n",
       "    .dataframe tbody tr th:only-of-type {\n",
       "        vertical-align: middle;\n",
       "    }\n",
       "\n",
       "    .dataframe tbody tr th {\n",
       "        vertical-align: top;\n",
       "    }\n",
       "\n",
       "    .dataframe thead th {\n",
       "        text-align: right;\n",
       "    }\n",
       "</style>\n",
       "<table border=\"1\" class=\"dataframe\">\n",
       "  <thead>\n",
       "    <tr style=\"text-align: right;\">\n",
       "      <th></th>\n",
       "      <th>Train count</th>\n",
       "      <th>Validation count</th>\n",
       "      <th>Test count</th>\n",
       "    </tr>\n",
       "    <tr>\n",
       "      <th>Word</th>\n",
       "      <th></th>\n",
       "      <th></th>\n",
       "      <th></th>\n",
       "    </tr>\n",
       "  </thead>\n",
       "  <tbody>\n",
       "    <tr>\n",
       "      <th>publishing</th>\n",
       "      <td>64</td>\n",
       "      <td>4</td>\n",
       "      <td>6</td>\n",
       "    </tr>\n",
       "    <tr>\n",
       "      <th>hitachi</th>\n",
       "      <td>18</td>\n",
       "      <td>0</td>\n",
       "      <td>0</td>\n",
       "    </tr>\n",
       "    <tr>\n",
       "      <th>dictaphone</th>\n",
       "      <td>3</td>\n",
       "      <td>8</td>\n",
       "      <td>0</td>\n",
       "    </tr>\n",
       "    <tr>\n",
       "      <th>squeeze</th>\n",
       "      <td>24</td>\n",
       "      <td>2</td>\n",
       "      <td>4</td>\n",
       "    </tr>\n",
       "    <tr>\n",
       "      <th>equation</th>\n",
       "      <td>4</td>\n",
       "      <td>2</td>\n",
       "      <td>0</td>\n",
       "    </tr>\n",
       "    <tr>\n",
       "      <th>...</th>\n",
       "      <td>...</td>\n",
       "      <td>...</td>\n",
       "      <td>...</td>\n",
       "    </tr>\n",
       "    <tr>\n",
       "      <th>supplied</th>\n",
       "      <td>8</td>\n",
       "      <td>2</td>\n",
       "      <td>6</td>\n",
       "    </tr>\n",
       "    <tr>\n",
       "      <th>approves</th>\n",
       "      <td>7</td>\n",
       "      <td>0</td>\n",
       "      <td>0</td>\n",
       "    </tr>\n",
       "    <tr>\n",
       "      <th>truth</th>\n",
       "      <td>20</td>\n",
       "      <td>1</td>\n",
       "      <td>0</td>\n",
       "    </tr>\n",
       "    <tr>\n",
       "      <th>bumiputra</th>\n",
       "      <td>6</td>\n",
       "      <td>0</td>\n",
       "      <td>0</td>\n",
       "    </tr>\n",
       "    <tr>\n",
       "      <th>customer</th>\n",
       "      <td>76</td>\n",
       "      <td>16</td>\n",
       "      <td>3</td>\n",
       "    </tr>\n",
       "  </tbody>\n",
       "</table>\n",
       "<p>9999 rows × 3 columns</p>\n",
       "</div>"
      ],
      "text/plain": [
       "            Train count  Validation count  Test count\n",
       "Word                                                 \n",
       "publishing           64                 4           6\n",
       "hitachi              18                 0           0\n",
       "dictaphone            3                 8           0\n",
       "squeeze              24                 2           4\n",
       "equation              4                 2           0\n",
       "...                 ...               ...         ...\n",
       "supplied              8                 2           6\n",
       "approves              7                 0           0\n",
       "truth                20                 1           0\n",
       "bumiputra             6                 0           0\n",
       "customer             76                16           3\n",
       "\n",
       "[9999 rows x 3 columns]"
      ]
     },
     "execution_count": 52,
     "metadata": {},
     "output_type": "execute_result"
    }
   ],
   "source": [
    "analysis"
   ]
  },
  {
   "cell_type": "markdown",
   "id": "3497c5c4-5192-4760-91d4-772f6521d543",
   "metadata": {},
   "source": [
    "Words only in train"
   ]
  },
  {
   "cell_type": "code",
   "execution_count": 53,
   "id": "9ae47491-5e0e-41d8-951a-eba895c83b92",
   "metadata": {},
   "outputs": [
    {
     "data": {
      "text/html": [
       "<div>\n",
       "<style scoped>\n",
       "    .dataframe tbody tr th:only-of-type {\n",
       "        vertical-align: middle;\n",
       "    }\n",
       "\n",
       "    .dataframe tbody tr th {\n",
       "        vertical-align: top;\n",
       "    }\n",
       "\n",
       "    .dataframe thead th {\n",
       "        text-align: right;\n",
       "    }\n",
       "</style>\n",
       "<table border=\"1\" class=\"dataframe\">\n",
       "  <thead>\n",
       "    <tr style=\"text-align: right;\">\n",
       "      <th></th>\n",
       "      <th>Train count</th>\n",
       "      <th>Validation count</th>\n",
       "      <th>Test count</th>\n",
       "    </tr>\n",
       "    <tr>\n",
       "      <th>Word</th>\n",
       "      <th></th>\n",
       "      <th></th>\n",
       "      <th></th>\n",
       "    </tr>\n",
       "  </thead>\n",
       "  <tbody>\n",
       "    <tr>\n",
       "      <th>hitachi</th>\n",
       "      <td>18</td>\n",
       "      <td>0</td>\n",
       "      <td>0</td>\n",
       "    </tr>\n",
       "    <tr>\n",
       "      <th>confronted</th>\n",
       "      <td>6</td>\n",
       "      <td>0</td>\n",
       "      <td>0</td>\n",
       "    </tr>\n",
       "    <tr>\n",
       "      <th>proving</th>\n",
       "      <td>13</td>\n",
       "      <td>0</td>\n",
       "      <td>0</td>\n",
       "    </tr>\n",
       "    <tr>\n",
       "      <th>nixon</th>\n",
       "      <td>36</td>\n",
       "      <td>0</td>\n",
       "      <td>0</td>\n",
       "    </tr>\n",
       "    <tr>\n",
       "      <th>roberti</th>\n",
       "      <td>6</td>\n",
       "      <td>0</td>\n",
       "      <td>0</td>\n",
       "    </tr>\n",
       "    <tr>\n",
       "      <th>...</th>\n",
       "      <td>...</td>\n",
       "      <td>...</td>\n",
       "      <td>...</td>\n",
       "    </tr>\n",
       "    <tr>\n",
       "      <th>espectador</th>\n",
       "      <td>7</td>\n",
       "      <td>0</td>\n",
       "      <td>0</td>\n",
       "    </tr>\n",
       "    <tr>\n",
       "      <th>contemplated</th>\n",
       "      <td>6</td>\n",
       "      <td>0</td>\n",
       "      <td>0</td>\n",
       "    </tr>\n",
       "    <tr>\n",
       "      <th>carolinas</th>\n",
       "      <td>6</td>\n",
       "      <td>0</td>\n",
       "      <td>0</td>\n",
       "    </tr>\n",
       "    <tr>\n",
       "      <th>approves</th>\n",
       "      <td>7</td>\n",
       "      <td>0</td>\n",
       "      <td>0</td>\n",
       "    </tr>\n",
       "    <tr>\n",
       "      <th>bumiputra</th>\n",
       "      <td>6</td>\n",
       "      <td>0</td>\n",
       "      <td>0</td>\n",
       "    </tr>\n",
       "  </tbody>\n",
       "</table>\n",
       "<p>2404 rows × 3 columns</p>\n",
       "</div>"
      ],
      "text/plain": [
       "              Train count  Validation count  Test count\n",
       "Word                                                   \n",
       "hitachi                18                 0           0\n",
       "confronted              6                 0           0\n",
       "proving                13                 0           0\n",
       "nixon                  36                 0           0\n",
       "roberti                 6                 0           0\n",
       "...                   ...               ...         ...\n",
       "espectador              7                 0           0\n",
       "contemplated            6                 0           0\n",
       "carolinas               6                 0           0\n",
       "approves                7                 0           0\n",
       "bumiputra               6                 0           0\n",
       "\n",
       "[2404 rows x 3 columns]"
      ]
     },
     "execution_count": 53,
     "metadata": {},
     "output_type": "execute_result"
    }
   ],
   "source": [
    "analysis[\n",
    "    (analysis['Train count'] >= 0)\n",
    "    & (analysis['Validation count'] == 0)\n",
    "    & (analysis['Test count'] == 0)]"
   ]
  },
  {
   "cell_type": "markdown",
   "id": "d3e3c2da-71b6-4c47-b754-e82f10004baf",
   "metadata": {},
   "source": [
    "Words only in validation"
   ]
  },
  {
   "cell_type": "code",
   "execution_count": 54,
   "id": "ea09df00-25d9-4b5c-92ef-ccae1ac60942",
   "metadata": {},
   "outputs": [
    {
     "data": {
      "text/html": [
       "<div>\n",
       "<style scoped>\n",
       "    .dataframe tbody tr th:only-of-type {\n",
       "        vertical-align: middle;\n",
       "    }\n",
       "\n",
       "    .dataframe tbody tr th {\n",
       "        vertical-align: top;\n",
       "    }\n",
       "\n",
       "    .dataframe thead th {\n",
       "        text-align: right;\n",
       "    }\n",
       "</style>\n",
       "<table border=\"1\" class=\"dataframe\">\n",
       "  <thead>\n",
       "    <tr style=\"text-align: right;\">\n",
       "      <th></th>\n",
       "      <th>Train count</th>\n",
       "      <th>Validation count</th>\n",
       "      <th>Test count</th>\n",
       "    </tr>\n",
       "    <tr>\n",
       "      <th>Word</th>\n",
       "      <th></th>\n",
       "      <th></th>\n",
       "      <th></th>\n",
       "    </tr>\n",
       "  </thead>\n",
       "  <tbody>\n",
       "  </tbody>\n",
       "</table>\n",
       "</div>"
      ],
      "text/plain": [
       "Empty DataFrame\n",
       "Columns: [Train count, Validation count, Test count]\n",
       "Index: []"
      ]
     },
     "execution_count": 54,
     "metadata": {},
     "output_type": "execute_result"
    }
   ],
   "source": [
    "analysis[\n",
    "    (analysis['Train count'] == 0)\n",
    "    & (analysis['Validation count'] > 0)\n",
    "    & (analysis['Test count'] == 0)]"
   ]
  },
  {
   "cell_type": "markdown",
   "id": "d2407dc3-20ce-4824-aa6e-a686276c1ab7",
   "metadata": {},
   "source": [
    "Words only in test"
   ]
  },
  {
   "cell_type": "code",
   "execution_count": 55,
   "id": "fd5d6884-7e91-47f6-9ae3-015ef9a61a0e",
   "metadata": {},
   "outputs": [
    {
     "data": {
      "text/html": [
       "<div>\n",
       "<style scoped>\n",
       "    .dataframe tbody tr th:only-of-type {\n",
       "        vertical-align: middle;\n",
       "    }\n",
       "\n",
       "    .dataframe tbody tr th {\n",
       "        vertical-align: top;\n",
       "    }\n",
       "\n",
       "    .dataframe thead th {\n",
       "        text-align: right;\n",
       "    }\n",
       "</style>\n",
       "<table border=\"1\" class=\"dataframe\">\n",
       "  <thead>\n",
       "    <tr style=\"text-align: right;\">\n",
       "      <th></th>\n",
       "      <th>Train count</th>\n",
       "      <th>Validation count</th>\n",
       "      <th>Test count</th>\n",
       "    </tr>\n",
       "    <tr>\n",
       "      <th>Word</th>\n",
       "      <th></th>\n",
       "      <th></th>\n",
       "      <th></th>\n",
       "    </tr>\n",
       "  </thead>\n",
       "  <tbody>\n",
       "  </tbody>\n",
       "</table>\n",
       "</div>"
      ],
      "text/plain": [
       "Empty DataFrame\n",
       "Columns: [Train count, Validation count, Test count]\n",
       "Index: []"
      ]
     },
     "execution_count": 55,
     "metadata": {},
     "output_type": "execute_result"
    }
   ],
   "source": [
    "analysis[\n",
    "    (analysis['Train count'] == 0)\n",
    "    & (analysis['Validation count'] == 0)\n",
    "    & (analysis['Test count'] > 0)]"
   ]
  },
  {
   "cell_type": "code",
   "execution_count": 56,
   "id": "8cb495b6-48da-4f56-a395-a9b217c70da5",
   "metadata": {},
   "outputs": [
    {
     "name": "stderr",
     "output_type": "stream",
     "text": [
      "/tmp/ipykernel_54754/2182263228.py:16: UserWarning: Creating legend with loc=\"best\" can be slow with large amounts of data.\n",
      "  plt.savefig('../assets/words_distribution.pdf')\n",
      "/tmp/ipykernel_54754/2182263228.py:16: UserWarning: Creating legend with loc=\"best\" can be slow with large amounts of data.\n",
      "  plt.savefig('../assets/words_distribution.pdf')\n",
      "/nix/store/ik2k5zq27xakwcv7ldda7nblz6y23lnv-python3-3.9.9-env/lib/python3.9/site-packages/IPython/core/pylabtools.py:152: UserWarning: Creating legend with loc=\"best\" can be slow with large amounts of data.\n",
      "  fig.canvas.print_figure(bytes_io, **kw)\n"
     ]
    },
    {
     "data": {
      "image/png": "[encoded data removed]",
      "text/plain": [
       "<Figure size 1500x1000 with 1 Axes>"
      ]
     },
     "metadata": {},
     "output_type": "display_data"
    }
   ],
   "source": [
    "plt.rc('legend',fontsize=15)\n",
    "plt.figure(figsize=(15,10))\n",
    "for split in ['Train count', 'Validation count', 'Test count']:\n",
    "    plt.hist(\n",
    "        analysis.index.values,\n",
    "        len(analysis),\n",
    "        weights=analysis[split] / analysis[split].mean(),\n",
    "        label=split,\n",
    "        alpha=0.35\n",
    "    )\n",
    "plt.xticks(rotation=45)\n",
    "plt.yscale(\"log\")\n",
    "plt.xticks([])\n",
    "plt.title('Words distribution normalized by the mean of words per split', fontsize=15)\n",
    "plt.legend()\n",
    "plt.savefig('../assets/words_distribution.pdf')\n",
    "plt.show()"
   ]
  },
  {
   "cell_type": "code",
   "execution_count": 57,
   "id": "98547aa0-00e7-4209-8617-8d70ccd0a30e",
   "metadata": {},
   "outputs": [
    {
     "data": {
      "text/markdown": [
       "| Words most frequent | Train word - count | Validation word - count | Test word - count |\n",
       "|---------------------|-------------------:|------------------------:|------------------:|\n",
       "| 1 | the - 50770 | the - 4122 | <unk> - 4794 |\n",
       "| 2 | <unk> - 45020 | <unk> - 3485 | the - 4529 |\n",
       "| 3 | N - 32481 | N - 2603 | N - 2523 |\n",
       "| 4 | of - 24400 | of - 1832 | of - 2195 |\n",
       "| 5 | to - 23638 | to - 1750 | to - 2042 |\n",
       "| 6 | a - 21196 | a - 1738 | a - 1821 |\n",
       "| 7 | in - 18000 | in - 1392 | in - 1640 |\n",
       "| 8 | and - 17474 | and - 1391 | and - 1539 |\n",
       "| 9 | 's - 9784 | 's - 868 | 's - 903 |\n",
       "| 10 | that - 8931 | for - 726 | that - 831 |\n"
      ],
      "text/plain": [
       "<IPython.core.display.Markdown object>"
      ]
     },
     "metadata": {},
     "output_type": "display_data"
    },
    {
     "data": {
      "text/markdown": [
       "| Words least frequent | Train word - count | Validation word - count | Test word - count |\n",
       "|---------------------|-------------------:|------------------------:|------------------:|\n",
       "| 1 | isi - 1 | okla. - 1 | engine - 1 |\n",
       "| 2 | daewoo - 1 | tens - 1 | jitters - 1 |\n",
       "| 3 | mlx - 1 | est - 1 | innocent - 1 |\n",
       "| 4 | gitano - 1 | population - 1 | reinforce - 1 |\n",
       "| 5 | centrust - 1 | clinical - 1 | swiss - 1 |\n",
       "| 6 | memotec - 1 | labels - 1 | replacing - 1 |\n",
       "| 7 | ipo - 1 | characterized - 1 | execution - 1 |\n",
       "| 8 | banknote - 1 | byrd - 1 | embassy - 1 |\n",
       "| 9 | cluett - 1 | loaded - 1 | unveiled - 1 |\n",
       "| 10 | biscuits - 1 | contested - 1 | tentatively - 1 |\n"
      ],
      "text/plain": [
       "<IPython.core.display.Markdown object>"
      ]
     },
     "metadata": {},
     "output_type": "display_data"
    }
   ],
   "source": [
    "table =  \"| Words most frequent | Train word - count | Validation word - count | Test word - count |\\n\"\n",
    "table += \"|---------------------|-------------------:|------------------------:|------------------:|\\n\"\n",
    "train = analysis.sort_values('Train count', ascending=False)\n",
    "validation = analysis.sort_values('Validation count', ascending=False)\n",
    "test = analysis.sort_values('Test count', ascending=False)\n",
    "for i in range(10):\n",
    "    table += f\"| {i + 1} | {train.index[i]} - {train.iloc[i][0]} | {validation.index[i]} - {validation.iloc[i][1]} | {test.index[i]} - {test.iloc[i][2]} |\\n\"\n",
    "display(Markdown(table))\n",
    "table =  \"| Words least frequent | Train word - count | Validation word - count | Test word - count |\\n\"\n",
    "table += \"|---------------------|-------------------:|------------------------:|------------------:|\\n\"\n",
    "train = analysis.sort_values('Train count', ascending=True)\n",
    "validation = analysis.sort_values('Validation count', ascending=True)\n",
    "validation = validation[validation['Validation count'] != 0]\n",
    "test = analysis.sort_values('Test count', ascending=True)\n",
    "test = test[test['Test count'] != 0]\n",
    "for i in range(10):\n",
    "    table += f\"| {i + 1} | {train.index[i]} - {train.iloc[i][0]} | {validation.index[i]} - {validation.iloc[i][1]} | {test.index[i]} - {test.iloc[i][2]} |\\n\"\n",
    "display(Markdown(table))"
   ]
  },
  {
   "cell_type": "markdown",
   "id": "0fce55e5-eb0b-44dd-8ebd-d73afd1cca4c",
   "metadata": {},
   "source": [
    "## Sentence lengths"
   ]
  },
  {
   "cell_type": "code",
   "execution_count": 99,
   "id": "a0994642-6325-4f0f-a51b-7b392b594206",
   "metadata": {},
   "outputs": [],
   "source": [
    "train_lengths = list(map(lambda x: len(x), train_df.sentences))\n",
    "val_lengths = list(map(lambda x: len(x), val_df.sentences))\n",
    "test_lengths = list(map(lambda x: len(x), test_df.sentences))"
   ]
  },
  {
   "cell_type": "code",
   "execution_count": 100,
   "id": "3d12c1cb-7c1e-453b-a2b6-04fcd31b4a3c",
   "metadata": {},
   "outputs": [
    {
     "data": {
      "image/png": "[encoded data removed]",
      "text/plain": [
       "<Figure size 1000x2000 with 4 Axes>"
      ]
     },
     "metadata": {},
     "output_type": "display_data"
    }
   ],
   "source": [
    "plt.rc('legend',fontsize=15)\n",
    "fig, axs = plt.subplots(4, figsize=(10,20))\n",
    "for ax, split, split_name in zip(\n",
    "    axs[:-1],\n",
    "    [train_lengths, val_lengths, test_lengths],\n",
    "    ['Train', 'Validation', 'Test'],\n",
    "):\n",
    "    ax.hist(\n",
    "        split,\n",
    "        label=split_name,\n",
    "        alpha=0.35\n",
    "    )\n",
    "    ax.axvline(x=sum(split)/len(split), color='red', label='Mean')\n",
    "    ax.set_title(split_name, fontsize=15)\n",
    "    ax.set_xlabel(\"Sentence length\")\n",
    "    ax.set_ylabel(\"Amount\")\n",
    "    ax.set_xlim([0, 550])\n",
    "    ax.legend()\n",
    "    \n",
    "for split, split_name in zip(\n",
    "    [train_lengths, val_lengths, test_lengths],\n",
    "    ['Train', 'Validation', 'Test'],\n",
    "):\n",
    "    axs[-1].hist(\n",
    "        split,\n",
    "        label=split_name,\n",
    "        alpha=0.35\n",
    "    )\n",
    "    axs[-1].set_title(\"Total\", fontsize=15)\n",
    "    axs[-1].set_xlabel(\"Sentence length\")\n",
    "    axs[-1].set_ylabel(\"Amount\")\n",
    "plt.legend()\n",
    "plt.savefig('../assets/sentence_lengths_distribution.pdf')\n",
    "plt.savefig('../assets/sentence_lengths_distribution.png')\n",
    "plt.show()"
   ]
  },
  {
   "cell_type": "code",
   "execution_count": null,
   "id": "eb52b835-3fc5-48ab-98e6-47adad37f5f5",
   "metadata": {},
   "outputs": [],
   "source": []
  }
 ],
 "metadata": {
  "kernelspec": {
   "display_name": "Python 3 (ipykernel)",
   "language": "python",
   "name": "python3"
  },
  "language_info": {
   "codemirror_mode": {
    "name": "ipython",
    "version": 3
   },
   "file_extension": ".py",
   "mimetype": "text/x-python",
   "name": "python",
   "nbconvert_exporter": "python",
   "pygments_lexer": "ipython3",
   "version": "3.9.9"
  }
 },
 "nbformat": 4,
 "nbformat_minor": 5
}
